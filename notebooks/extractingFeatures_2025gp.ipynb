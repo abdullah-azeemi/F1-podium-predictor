{
 "cells": [
  {
   "cell_type": "code",
   "execution_count": 1,
   "id": "a2395c1b",
   "metadata": {},
   "outputs": [],
   "source": [
    "import sys\n",
    "import os\n",
    "sys.path.append(os.path.abspath(os.path.join(os.getcwd(), '..')))\n",
    "\n",
    "from src.dataLoader import loadSession\n",
    "from src.features import *"
   ]
  },
  {
   "cell_type": "code",
   "execution_count": null,
   "id": "fe479fcb",
   "metadata": {},
   "outputs": [],
   "source": [
    "# loading all the sessions in Hungarian GP\n",
    "\n",
    "fp1 = loadSession(2025, 'Hungary', 'FP1')\n",
    "fp2 = loadSession(2025, 'Hungary', 'FP2')\n",
    "fp3 = loadSession(2025, 'Hungary', 'FP3')\n",
    "quali = loadSession(2025, 'Hungary', 'Q')"
   ]
  }
 ],
 "metadata": {
  "kernelspec": {
   "display_name": "venv",
   "language": "python",
   "name": "python3"
  },
  "language_info": {
   "codemirror_mode": {
    "name": "ipython",
    "version": 3
   },
   "file_extension": ".py",
   "mimetype": "text/x-python",
   "name": "python",
   "nbconvert_exporter": "python",
   "pygments_lexer": "ipython3",
   "version": "3.13.5"
  }
 },
 "nbformat": 4,
 "nbformat_minor": 5
}
